{
 "cells": [
  {
   "attachments": {},
   "cell_type": "markdown",
   "metadata": {},
   "source": [
    "# Assignment 2 Linear Programing "
   ]
  },
  {
   "cell_type": "code",
   "execution_count": 7,
   "metadata": {},
   "outputs": [
    {
     "name": "stdout",
     "output_type": "stream",
     "text": [
      "Requirement already satisfied: xlrd in c:\\users\\yassy\\appdata\\local\\programs\\python\\python310\\lib\\site-packages (2.0.1)\n"
     ]
    },
    {
     "name": "stderr",
     "output_type": "stream",
     "text": [
      "\n",
      "[notice] A new release of pip is available: 23.0.1 -> 23.1.2\n",
      "[notice] To update, run: python.exe -m pip install --upgrade pip\n"
     ]
    },
    {
     "name": "stdout",
     "output_type": "stream",
     "text": [
      "Collecting openpyxl\n",
      "  Downloading openpyxl-3.1.2-py2.py3-none-any.whl (249 kB)\n",
      "     ------------------------------------ 250.0/250.0 kB 414.1 kB/s eta 0:00:00\n",
      "Collecting et-xmlfile\n",
      "  Downloading et_xmlfile-1.1.0-py3-none-any.whl (4.7 kB)\n",
      "Installing collected packages: et-xmlfile, openpyxl\n",
      "Successfully installed et-xmlfile-1.1.0 openpyxl-3.1.2\n"
     ]
    },
    {
     "name": "stderr",
     "output_type": "stream",
     "text": [
      "\n",
      "[notice] A new release of pip is available: 23.0.1 -> 23.1.2\n",
      "[notice] To update, run: python.exe -m pip install --upgrade pip\n"
     ]
    }
   ],
   "source": [
    "%!pip install xlrd\n",
    "%!pip install openpyxl\n",
    "\n",
    "#import for data processings\n",
    "import pandas as pd\n",
    "import numpy as np\n",
    "#linear programer \n",
    "from gurobipy import *"
   ]
  },
  {
   "attachments": {},
   "cell_type": "markdown",
   "metadata": {},
   "source": [
    "## Question 2 part C"
   ]
  },
  {
   "cell_type": "code",
   "execution_count": 46,
   "metadata": {},
   "outputs": [],
   "source": [
    "#import data\n",
    "df = pd.read_excel(\"data.xlsx\")"
   ]
  },
  {
   "cell_type": "code",
   "execution_count": 47,
   "metadata": {},
   "outputs": [],
   "source": [
    "#extract data\n",
    "xs = df[\"x\"]\n",
    "ys = df[\"y\"]\n",
    "qs = df[\"q\"]"
   ]
  },
  {
   "cell_type": "code",
   "execution_count": 48,
   "metadata": {},
   "outputs": [],
   "source": [
    "xs = np.array(xs)\n",
    "ys = np.array(ys)\n",
    "qs = np.array(qs)\n",
    "n = xs.shape[0]"
   ]
  },
  {
   "cell_type": "code",
   "execution_count": 69,
   "metadata": {},
   "outputs": [
    {
     "name": "stdout",
     "output_type": "stream",
     "text": [
      "Gurobi Optimizer version 10.0.1 build v10.0.1rc0 (win64)\n",
      "\n",
      "CPU model: AMD Athlon Gold 3150U with Radeon Graphics, instruction set [SSE2|AVX|AVX2]\n",
      "Thread count: 2 physical cores, 4 logical processors, using up to 4 threads\n",
      "\n",
      "Optimize a model with 396 rows, 200 columns and 792 nonzeros\n",
      "Model fingerprint: 0xd8b42a98\n",
      "Coefficient statistics:\n",
      "  Matrix range     [1e+00, 1e+00]\n",
      "  Objective range  [3e+00, 5e+01]\n",
      "  Bounds range     [0e+00, 0e+00]\n",
      "  RHS range        [5e+00, 1e+02]\n",
      "Presolve time: 0.01s\n",
      "Presolved: 396 rows, 200 columns, 792 nonzeros\n",
      "\n",
      "Iteration    Objective       Primal Inf.    Dual Inf.      Time\n",
      "       0    0.0000000e+00   1.382000e+04   0.000000e+00      0s\n",
      "     196    5.2515000e+04   0.000000e+00   0.000000e+00      0s\n",
      "\n",
      "Solved in 196 iterations and 0.04 seconds (0.00 work units)\n",
      "Optimal objective  5.251500000e+04\n"
     ]
    }
   ],
   "source": [
    "#creat model\n",
    "m = Model()\n",
    "\n",
    "# The variables are of shape 100x2 and looklike [[u,v],[alpha_1, beta_1],[ alpha_2,beta_2] .... [alpha_n, beta_n]]\n",
    "x = m.addMVar((n+1,2), name = \"x\")\n",
    "\n",
    "m.setObjective(sum(qs[i]*x[i+1,0] + qs[i]*x[i+1,1] for i in range(n)))\n",
    "# add constraints\n",
    "for i in range(n):\n",
    "    m.addConstr(x[i+1,0] + x[0,0] >= xs[i])\n",
    "    m.addConstr(x[i+1,0] - x[0,0] >= -xs[i])\n",
    "    m.addConstr(x[i+1,1] + x[0,1] >= ys[i])\n",
    "    m.addConstr(x[i+1,1] - x[0,1] >= -ys[i])\n",
    "#run model\n",
    "m.optimize()"
   ]
  },
  {
   "cell_type": "code",
   "execution_count": 70,
   "metadata": {},
   "outputs": [
    {
     "name": "stdout",
     "output_type": "stream",
     "text": [
      "Objective = 52515.00,u = 70.00, v = 68.00\n"
     ]
    }
   ],
   "source": [
    "print(\"Objective = {:.2f},u = {:.2f}, v = {:.2f}\".format( m.objVal, x[0,0].x, x[0,1].x))"
   ]
  },
  {
   "attachments": {},
   "cell_type": "markdown",
   "metadata": {},
   "source": [
    "## Question 3 part 1"
   ]
  },
  {
   "cell_type": "code",
   "execution_count": null,
   "metadata": {},
   "outputs": [],
   "source": []
  }
 ],
 "metadata": {
  "kernelspec": {
   "display_name": "Python 3",
   "language": "python",
   "name": "python3"
  },
  "language_info": {
   "codemirror_mode": {
    "name": "ipython",
    "version": 3
   },
   "file_extension": ".py",
   "mimetype": "text/x-python",
   "name": "python",
   "nbconvert_exporter": "python",
   "pygments_lexer": "ipython3",
   "version": "3.10.4"
  },
  "orig_nbformat": 4
 },
 "nbformat": 4,
 "nbformat_minor": 2
}
